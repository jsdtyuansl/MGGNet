{
 "cells": [
  {
   "cell_type": "code",
   "id": "initial_id",
   "metadata": {
    "collapsed": true,
    "ExecuteTime": {
     "end_time": "2024-09-05T01:17:38.955679Z",
     "start_time": "2024-09-05T01:17:37.787635Z"
    }
   },
   "source": [
    "import torch\n",
    "\n",
    "import random\n",
    "random.seed(42)\n",
    "\n",
    "# 生成0到284之间的随机整数\n",
    "random_index = random.randint(0, 284)\n"
   ],
   "outputs": [],
   "execution_count": 2
  },
  {
   "cell_type": "code",
   "source": [
    "import pickle\n",
    "\n",
    "with open('./data/processed/test2016_5A.pkl', 'rb') as f:\n",
    "    l = pickle.load(f) "
   ],
   "metadata": {
    "collapsed": false,
    "ExecuteTime": {
     "end_time": "2024-09-05T01:17:39.813594Z",
     "start_time": "2024-09-05T01:17:38.959685Z"
    }
   },
   "id": "1cc950de17b020ea",
   "outputs": [],
   "execution_count": 3
  },
  {
   "metadata": {
    "ExecuteTime": {
     "end_time": "2024-09-05T01:17:49.743913Z",
     "start_time": "2024-09-05T01:17:49.737605Z"
    }
   },
   "cell_type": "code",
   "source": [
    "for n,data in enumerate(l):\n",
    "    if (data[1].code == '1o5b'):\n",
    "        print(n)\n",
    "        print(data[0])\n",
    "        print(data[1])\n",
    "        print(data[2])\n",
    "\n",
    "\n",
    "    \n",
    "    "
   ],
   "id": "3c070fe51710d24b",
   "outputs": [
    {
     "name": "stdout",
     "output_type": "stream",
     "text": [
      "19\n",
      "Data(x=[13, 44], edge_index=[2, 28], edge_attr=[28, 12], y=[1], pos=[13, 3])\n",
      "Data(x=[140, 44], edge_index=[2, 282], edge_attr=[282, 12], pos=[140, 3], code='1o5b')\n",
      "HeteroData(\n",
      "  ligand={ x=[13, 44] },\n",
      "  protein={ x=[58, 44] },\n",
      "  (ligand, to, protein)={\n",
      "    edge_index=[2, 217],\n",
      "    edge_attr=[217, 1],\n",
      "  },\n",
      "  (protein, rev_to, ligand)={\n",
      "    edge_index=[2, 217],\n",
      "    edge_attr=[217, 1],\n",
      "  }\n",
      ")\n"
     ]
    }
   ],
   "execution_count": 5
  },
  {
   "metadata": {},
   "cell_type": "code",
   "outputs": [],
   "execution_count": null,
   "source": "",
   "id": "e8b9b886c3058fc2"
  }
 ],
 "metadata": {
  "kernelspec": {
   "name": "happy",
   "language": "python",
   "display_name": "Happy"
  },
  "language_info": {
   "codemirror_mode": {
    "name": "ipython",
    "version": 2
   },
   "file_extension": ".py",
   "mimetype": "text/x-python",
   "name": "python",
   "nbconvert_exporter": "python",
   "pygments_lexer": "ipython2",
   "version": "2.7.6"
  }
 },
 "nbformat": 4,
 "nbformat_minor": 5
}
