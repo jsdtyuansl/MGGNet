{
 "cells": [
  {
   "cell_type": "code",
   "execution_count": 17,
   "id": "initial_id",
   "metadata": {
    "collapsed": true,
    "ExecuteTime": {
     "end_time": "2024-09-03T06:52:41.234850600Z",
     "start_time": "2024-09-03T06:52:41.212299100Z"
    }
   },
   "outputs": [],
   "source": [
    "import numpy as np"
   ]
  },
  {
   "cell_type": "code",
   "execution_count": 18,
   "outputs": [],
   "source": [
    "list1 = [[1,2],[3,4]]\n",
    "list2 = [[5,6],[7,8]]"
   ],
   "metadata": {
    "collapsed": false,
    "ExecuteTime": {
     "end_time": "2024-09-03T06:52:41.565347200Z",
     "start_time": "2024-09-03T06:52:41.552617100Z"
    }
   },
   "id": "b16d136c907ccec7"
  },
  {
   "cell_type": "code",
   "execution_count": 19,
   "outputs": [
    {
     "data": {
      "text/plain": "array([[1, 2],\n       [3, 4],\n       [5, 6],\n       [7, 8]])"
     },
     "execution_count": 19,
     "metadata": {},
     "output_type": "execute_result"
    }
   ],
   "source": [
    "np.concatenate((list1, list2), axis=0)"
   ],
   "metadata": {
    "collapsed": false,
    "ExecuteTime": {
     "end_time": "2024-09-03T06:52:42.304710800Z",
     "start_time": "2024-09-03T06:52:42.285620400Z"
    }
   },
   "id": "709359fed140c572"
  },
  {
   "cell_type": "code",
   "execution_count": 11,
   "outputs": [],
   "source": [],
   "metadata": {
    "collapsed": false,
    "ExecuteTime": {
     "end_time": "2024-09-03T06:51:41.023815900Z",
     "start_time": "2024-09-03T06:51:41.008817100Z"
    }
   },
   "id": "fc3b9601bd08fa3d"
  },
  {
   "cell_type": "code",
   "execution_count": null,
   "outputs": [],
   "source": [],
   "metadata": {
    "collapsed": false
   },
   "id": "1cc950de17b020ea"
  }
 ],
 "metadata": {
  "kernelspec": {
   "name": "happy",
   "language": "python",
   "display_name": "Happy"
  },
  "language_info": {
   "codemirror_mode": {
    "name": "ipython",
    "version": 2
   },
   "file_extension": ".py",
   "mimetype": "text/x-python",
   "name": "python",
   "nbconvert_exporter": "python",
   "pygments_lexer": "ipython2",
   "version": "2.7.6"
  }
 },
 "nbformat": 4,
 "nbformat_minor": 5
}
